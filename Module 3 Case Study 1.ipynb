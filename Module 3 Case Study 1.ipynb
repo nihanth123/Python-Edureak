{
 "cells": [
  {
   "cell_type": "markdown",
   "metadata": {},
   "source": [
    "#### 1. A Robot moves in a Plane starting from the origin point (0,0). The robot can move toward UP, DOWN, LEFT, RIGHT. The trace of Robot movement is as given following:\n",
    "\n",
    "#### UP 5\n",
    "#### DOWN 3\n",
    "#### LEFT 3\n",
    "#### RIGHT 2\n",
    "#### The numbers after directions are steps. Write a program to compute the distance current position after sequence of movements.\n",
    "#### Hint: Use math module."
   ]
  },
  {
   "cell_type": "code",
   "execution_count": 1,
   "metadata": {},
   "outputs": [
    {
     "name": "stdout",
     "output_type": "stream",
     "text": [
      "2.23606797749979\n"
     ]
    }
   ],
   "source": [
    "import math\n",
    "\n",
    "s = [0,0]\n",
    "up = [0,5]\n",
    "down = [0,-3]\n",
    "left = [-3,0]\n",
    "right = [2,0]\n",
    "\n",
    "final_pos = [sum(i) for i in zip(s, up , down , left , right)]  \n",
    "\n",
    "dist = math.hypot(final_pos[0] - s[0], final_pos[1] - s[1])\n",
    "\n",
    "print(dist)"
   ]
  },
  {
   "cell_type": "markdown",
   "metadata": {},
   "source": [
    "#### 2. Data of XYZ company is stored in sorted list. Write a program for searching specific data from that list.\n",
    "#### Hint: Use if/elif to deal with conditions."
   ]
  },
  {
   "cell_type": "code",
   "execution_count": 33,
   "metadata": {},
   "outputs": [
    {
     "name": "stdout",
     "output_type": "stream",
     "text": [
      "Enter the value in the list to see if it is present or absent: 7\n",
      "First occurrence of 7 is present at 6\n"
     ]
    }
   ],
   "source": [
    "from bisect import bisect_left \n",
    "  \n",
    "def BinarySearch(a, x): \n",
    "    i = bisect_left(a, x) \n",
    "    if i != len(a) and a[i] == x: \n",
    "        return i \n",
    "    else: \n",
    "        return -1\n",
    "  \n",
    "a  = [1, 2, 3, 4, 5, 6, 7, 8, 9] \n",
    "x = int(input(\"Enter the value in the list to see if it is present or absent: \") )\n",
    "res = BinarySearch(a, x) \n",
    "if res == -1: \n",
    "    print(x, \"is absent\") \n",
    "else: \n",
    "    print(\"First occurrence of\", x, \"is present at\", res) "
   ]
  },
  {
   "cell_type": "markdown",
   "metadata": {},
   "source": [
    "#### 3. Weather forecasting organization wants to show is it day or night. So, write a program for such organization to find whether is it dark outside or not.\n",
    "#### Hint: Use time module."
   ]
  },
  {
   "cell_type": "code",
   "execution_count": 10,
   "metadata": {},
   "outputs": [
    {
     "name": "stdout",
     "output_type": "stream",
     "text": [
      "It is not dark outside\n"
     ]
    }
   ],
   "source": [
    "import time\n",
    "mytime = time.localtime()\n",
    "if mytime.tm_hour < 6 or mytime.tm_hour > 18:\n",
    "    print ('It is dark outisde')\n",
    "else:\n",
    "    print ('It is not dark outside')"
   ]
  },
  {
   "cell_type": "markdown",
   "metadata": {},
   "source": [
    "#### 4. Write a program to find distance between two locations when their latitude and longitudes are given.\n",
    "#### Hint: Use math module."
   ]
  },
  {
   "cell_type": "code",
   "execution_count": 34,
   "metadata": {},
   "outputs": [
    {
     "name": "stdout",
     "output_type": "stream",
     "text": [
      "Enter the latitude and longitude of the location 1 separated by space: 43.31 17.45\n",
      "Enter the latitude and longitude of the location 2 separated by space: 47.345 14.321\n",
      "The distance between the 2 locations is 511.07 km\n"
     ]
    }
   ],
   "source": [
    "from math import sin , cos , atan2 , sqrt\n",
    "\n",
    "R = 6373.0\n",
    "\n",
    "latitude1, longitude1 = input(\"Enter the latitude and longitude of the location 1 separated by space: \").split()\n",
    "latitude2, longitude2 = input(\"Enter the latitude and longitude of the location 2 separated by space: \").split()\n",
    "\n",
    "latitude3 = radians(float(latitude1))\n",
    "latitude4 = radians(float(latitude2))\n",
    "longitude3 = radians(float(longitude1))\n",
    "longitude4 = radians(float(longitude2))\n",
    "\n",
    "longitude = longitude4 - longitude3\n",
    "latitude = latitude4 - latitude3\n",
    "\n",
    "a = sin(latitude / 2)**2 + cos(latitude3) * cos(latitude4) * sin(longitude / 2)**2\n",
    "c = 2 * atan2(sqrt(a), sqrt(1 - a))\n",
    "\n",
    "distance = R * c\n",
    "\n",
    "print(\"The distance between the 2 locations is {} km\".format(str(round(distance, 2))))"
   ]
  },
  {
   "cell_type": "markdown",
   "metadata": {},
   "source": [
    "#### 5. Design a software for bank system. There should be options like cash withdraw, cash credit and change password. According to user input, the software should provide required output.\n",
    "#### Hint: Use if else statements and functions."
   ]
  },
  {
   "cell_type": "code",
   "execution_count": 53,
   "metadata": {},
   "outputs": [
    {
     "name": "stdout",
     "output_type": "stream",
     "text": [
      "Welcome to XYZ Bank ATM\n",
      "Enter the 4 digit Debit Card PIN number: 1234\n",
      "PIN Successfully Validated\n",
      "Select the following options \n",
      " 1 for Cash Withdrawal \n",
      " 2 for Cash Credit \n",
      " 3 for Change Password \n",
      "1\n",
      "Enter the amount to be Withdrawn: 200\n",
      "Press 1 to confirm the amount entered: 1\n",
      "The transaction has been successfull. $200 has been withdrawn from the account. \n",
      "Thanks for banking with us\n"
     ]
    }
   ],
   "source": [
    "def CashWithdrawal():\n",
    "    selection1 = input(\"Enter the amount to be Withdrawn: \")\n",
    "    confirm = input(\"Press 1 to confirm the amount entered: \")\n",
    "    if int(confirm) == 1:\n",
    "        print(\"The transaction has been successfull. ${} has been withdrawn from the account. \\nThanks for banking with us\".format(selection1))\n",
    "    else:\n",
    "        print(\"Transaction was cancelled\")\n",
    "\n",
    "def CashCredit():\n",
    "    selection1 = input(\"Enter the amount to be Credited: \")\n",
    "    confirm = input(\"Press 1 to confirm the amount entered: \")\n",
    "    if int(confirm) == 1:\n",
    "        print(\"The transaction has been successfull. ${} has been credited to the account. \\nThanks for banking with us\".format(selection1))\n",
    "    else:\n",
    "        print(\"Transaction was cancelled\")\n",
    "        \n",
    "def ChangePassword():\n",
    "    selection1 = input(\"Enter the new password for the account: \")\n",
    "    print(\"The account password has been successfully changed. \\nThanks for banking with us.\")\n",
    "    \n",
    "def bank():      \n",
    "    print(\"Welcome to XYZ Bank ATM\")\n",
    "    pin = input(\"Enter the 4 digit Debit Card PIN number: \")\n",
    "    print(\"PIN Successfully Validated\")\n",
    "    user_input = input(\"Select the following options \\n 1 for Cash Withdrawal \\n 2 for Cash Credit \\n 3 for Change Password \\n\")\n",
    "    if int(user_input) == 1:\n",
    "        CashWithdrawal()\n",
    "    if int(user_input) == 2:\n",
    "        CashCredit()\n",
    "    if int(user_input) == 3:\n",
    "        ChangePassword()\n",
    "\n",
    "bank()"
   ]
  },
  {
   "cell_type": "markdown",
   "metadata": {},
   "source": [
    "#### 6. Write a program which will find all such numbers which are divisible by 7 but are not a multiple of 5, between 2000 and 3200 (both included). The numbers obtained should be printed in a comma-separated sequence on a single line."
   ]
  },
  {
   "cell_type": "code",
   "execution_count": 59,
   "metadata": {},
   "outputs": [
    {
     "name": "stdout",
     "output_type": "stream",
     "text": [
      "2002,2009,2016,2023,2037,2044,2051,2058,2072,2079,2086,2093,2107,2114,2121,2128,2142,2149,2156,2163,2177,2184,2191,2198,2212,2219,2226,2233,2247,2254,2261,2268,2282,2289,2296,2303,2317,2324,2331,2338,2352,2359,2366,2373,2387,2394,2401,2408,2422,2429,2436,2443,2457,2464,2471,2478,2492,2499,2506,2513,2527,2534,2541,2548,2562,2569,2576,2583,2597,2604,2611,2618,2632,2639,2646,2653,2667,2674,2681,2688,2702,2709,2716,2723,2737,2744,2751,2758,2772,2779,2786,2793,2807,2814,2821,2828,2842,2849,2856,2863,2877,2884,2891,2898,2912,2919,2926,2933,2947,2954,2961,2968,2982,2989,2996,3003,3017,3024,3031,3038,3052,3059,3066,3073,3087,3094,3101,3108,3122,3129,3136,3143,3157,3164,3171,3178,3192,3199\n"
     ]
    }
   ],
   "source": [
    "n = []\n",
    "for i in range(2000, 3201):\n",
    "    s = str(i)\n",
    "    if i%7==0 and i%5!=0:\n",
    "        n.append(s)\n",
    "print( \",\".join(n))\n"
   ]
  },
  {
   "cell_type": "markdown",
   "metadata": {},
   "source": [
    "#### 7. Write a program which can compute the factorial of a given numbers. Use recursion to find it. "
   ]
  },
  {
   "cell_type": "code",
   "execution_count": 89,
   "metadata": {},
   "outputs": [
    {
     "name": "stdout",
     "output_type": "stream",
     "text": [
      "Enter the number: 8\n",
      "40320\n"
     ]
    }
   ],
   "source": [
    "a = int(input(\"Enter the number: \"))\n",
    "\n",
    "def factoral(n):\n",
    "    if n < 0:\n",
    "        return -1\n",
    "    elif n <2:\n",
    "        return 1\n",
    "    else:\n",
    "        return n*factoral(n-1)\n",
    "\n",
    "print(factoral(a))\n"
   ]
  },
  {
   "cell_type": "markdown",
   "metadata": {},
   "source": [
    "#### 8. Write a program that calculates and prints the value according to the given formula:\n",
    "#### Q = Square root of [(2 * C * D)/H]\n",
    "#### Following are the fixed values of C and H: C is 50. H is 30.\n",
    "#### D is the variable whose values should be input to your program in a commaseparated sequence"
   ]
  },
  {
   "cell_type": "code",
   "execution_count": 127,
   "metadata": {},
   "outputs": [
    {
     "name": "stdout",
     "output_type": "stream",
     "text": [
      "Enter the values: 100,150,180\n",
      "18, 22, 24\n"
     ]
    }
   ],
   "source": [
    "from math import sqrt\n",
    "\n",
    "C = int(50)\n",
    "H = int(30)\n",
    "A = list(map(int, input(\"Enter the values: \").split(','))) \n",
    "\n",
    "M = [sqrt((2*C*D)/H) for D in A]\n",
    "M =  [round(x) for x in M]\n",
    "\n",
    "print (str(M).strip('[]'))\n",
    "\n"
   ]
  },
  {
   "cell_type": "markdown",
   "metadata": {},
   "source": [
    "#### 9. Write a program which takes 2 digits, X,Y as input and generates a 2-dimensional array. The element value in the i-th row and j-th column of the array should be i*j.\n",
    "#### Note: i=0,1.., X-1; j=0,1,¡-Y-1"
   ]
  },
  {
   "cell_type": "code",
   "execution_count": 24,
   "metadata": {},
   "outputs": [
    {
     "name": "stdout",
     "output_type": "stream",
     "text": [
      "Input number of rows: 3\n",
      "Input number of columns: 5\n",
      "[[0, 0, 0, 0, 0], [0, 1, 2, 3, 4], [0, 2, 4, 6, 8]]\n"
     ]
    }
   ],
   "source": [
    "row_num = int(input(\"Input number of rows: \"))\n",
    "col_num = int(input(\"Input number of columns: \"))\n",
    "multi_list = [[0 for col in range(col_num)] for row in range(row_num)]\n",
    "\n",
    "for row in range(row_num):\n",
    "    for col in range(col_num):\n",
    "        multi_list[row][col]= row*col\n",
    "\n",
    "print(multi_list)"
   ]
  },
  {
   "cell_type": "markdown",
   "metadata": {},
   "source": [
    "#### 10. Write a program that accepts a comma separated sequence of words as input and prints the words in a comma-separated sequence after sorting them alphabetically. "
   ]
  },
  {
   "cell_type": "code",
   "execution_count": 34,
   "metadata": {},
   "outputs": [
    {
     "name": "stdout",
     "output_type": "stream",
     "text": [
      "Enter the words: without,hello,bag,world\n",
      "bag,hello,without,world\n"
     ]
    }
   ],
   "source": [
    "A = list((input(\"Enter the words: \").split(','))) \n",
    "A=sorted(A)\n",
    "print( \",\".join(A))"
   ]
  },
  {
   "cell_type": "markdown",
   "metadata": {},
   "source": [
    "#### 11.Write a program that accepts sequence of lines as input and prints the lines after making all characters in the sentence capitalized. "
   ]
  },
  {
   "cell_type": "code",
   "execution_count": 148,
   "metadata": {},
   "outputs": [
    {
     "name": "stdout",
     "output_type": "stream",
     "text": [
      "First line: Hello world\n",
      "Next line: Practice makes perfect\n",
      "Next line: \n",
      "HELLO WORLD\n",
      "PRACTICE MAKES PERFECT\n"
     ]
    }
   ],
   "source": [
    "lines = []\n",
    "line = input('First line: ')\n",
    "while line:\n",
    "    lines.append(line)\n",
    "    line = input('Next line: ') #if yiu have entered enough line press enter without entering any value to display results\n",
    "lines = [element.upper() for element in lines]\n",
    "print(\"\\n\".join(lines))"
   ]
  },
  {
   "cell_type": "markdown",
   "metadata": {},
   "source": [
    "#### 12.Write a program that accepts a sequence of whitespace separated words as input and prints the words after removing all duplicate words and sorting them alphanumerically."
   ]
  },
  {
   "cell_type": "code",
   "execution_count": 5,
   "metadata": {},
   "outputs": [
    {
     "name": "stdout",
     "output_type": "stream",
     "text": [
      "Enter the words: hello world and practice makes perfect and hello world again\n",
      "again and hello makes perfect practice world\n"
     ]
    }
   ],
   "source": [
    "A = list(input(\"Enter the words: \").split(' '))\n",
    "\n",
    "A = [i for n, i in enumerate(A) if i not in A[:n]]\n",
    "\n",
    "A = sorted(A)\n",
    "\n",
    "print(*A)"
   ]
  },
  {
   "cell_type": "markdown",
   "metadata": {},
   "source": [
    "#### 13.Write a program which accepts a sequence of comma separated 4 digit binary numbers as its input and then check whether they are divisible by 5 or not. The numbers that are divisible by 5 are to be printed in a comma separated sequence."
   ]
  },
  {
   "cell_type": "code",
   "execution_count": 15,
   "metadata": {},
   "outputs": [
    {
     "name": "stdout",
     "output_type": "stream",
     "text": [
      "0100,0011,1010,1001\n",
      "1010\n"
     ]
    }
   ],
   "source": [
    "items = []\n",
    "num = [x for x in input().split(',')]\n",
    "\n",
    "for p in num:\n",
    "    x = int(p, 2)\n",
    "    if not x%5:\n",
    "        items.append(p)\n",
    "\n",
    "print(','.join(items))"
   ]
  },
  {
   "cell_type": "markdown",
   "metadata": {},
   "source": [
    "#### 14.Write a program that accepts a sentence and calculate the number of upper case letters and lower case letters."
   ]
  },
  {
   "cell_type": "code",
   "execution_count": 1,
   "metadata": {},
   "outputs": [
    {
     "name": "stdout",
     "output_type": "stream",
     "text": [
      "Enter the string: Hello world!\n",
      "UPPER CASE: 1\n",
      "LOWER CASE: 9\n"
     ]
    }
   ],
   "source": [
    "a = input(\"Enter the string: \")\n",
    "\n",
    "def string_count():\n",
    "\n",
    "    upper=0\n",
    "    lower=0\n",
    "    \n",
    "    for i in range(len(a)):\n",
    "        if (ord(a[i]) >=65 and ord(a[i]) <=90):\n",
    "            upper +=1\n",
    "        elif (ord(a[i]) >=97 and ord(a[i])<=122):\n",
    "            lower+=1\n",
    "    print(\"UPPER CASE: {}\".format(upper))\n",
    "    print(\"LOWER CASE: {}\".format(lower))\n",
    "\n",
    "string_count()"
   ]
  },
  {
   "cell_type": "markdown",
   "metadata": {},
   "source": [
    "#### 15. Give example of fsum and sum function of math library."
   ]
  },
  {
   "cell_type": "code",
   "execution_count": 8,
   "metadata": {},
   "outputs": [
    {
     "name": "stdout",
     "output_type": "stream",
     "text": [
      "12.190000000000001\n",
      "12.19\n"
     ]
    }
   ],
   "source": [
    "import math \n",
    "\n",
    "arr = [1.23, 4.41, 6.55] \n",
    " \n",
    "A = sum(arr)\n",
    "\n",
    "B = math.fsum(arr)\n",
    "\n",
    "print(A)\n",
    "\n",
    "print(B)"
   ]
  }
 ],
 "metadata": {
  "kernelspec": {
   "display_name": "Python 3",
   "language": "python",
   "name": "python3"
  },
  "language_info": {
   "codemirror_mode": {
    "name": "ipython",
    "version": 3
   },
   "file_extension": ".py",
   "mimetype": "text/x-python",
   "name": "python",
   "nbconvert_exporter": "python",
   "pygments_lexer": "ipython3",
   "version": "3.7.0"
  }
 },
 "nbformat": 4,
 "nbformat_minor": 2
}
