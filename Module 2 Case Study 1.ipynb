{
 "cells": [
  {
   "cell_type": "markdown",
   "metadata": {},
   "source": [
    "# Case Study 1"
   ]
  },
  {
   "cell_type": "markdown",
   "metadata": {},
   "source": [
    "#### 1.Write a program which will find factors of given number and find whether the factor is even or odd.\n",
    "\n",
    "#### Hint: Use Loop with if-else statements"
   ]
  },
  {
   "cell_type": "code",
   "execution_count": 52,
   "metadata": {},
   "outputs": [
    {
     "name": "stdout",
     "output_type": "stream",
     "text": [
      "Please enter a number: 24\n",
      "1 is an odd factor\n",
      "2 is an even factor\n",
      "3 is an odd factor\n",
      "4 is an even factor\n",
      "6 is an even factor\n",
      "8 is an even factor\n",
      "12 is an even factor\n",
      "24 is an even factor\n"
     ]
    }
   ],
   "source": [
    "x = int(input(\"Please enter a number: \"))\n",
    "factors=[]\n",
    "for i in range(1,x+1):\n",
    "    if x%i==0:\n",
    "        if i%2 == 0:\n",
    "         print(i,\"is an even factor\")\n",
    "        else:\n",
    "            print(i,\"is an odd factor\")"
   ]
  },
  {
   "cell_type": "markdown",
   "metadata": {},
   "source": [
    "#### 2.Write a code which accepts a sequence of words as input and prints the words in a sequence after sorting them alphabetically. \n",
    "\n",
    "#### Hint: In case of input data being supplied to the question, it should be assumed to be a console input."
   ]
  },
  {
   "cell_type": "code",
   "execution_count": 65,
   "metadata": {},
   "outputs": [
    {
     "name": "stdout",
     "output_type": "stream",
     "text": [
      "Enter the sequence of words to be sorted: the man in the building left early today\n",
      "building early in left man the the today "
     ]
    }
   ],
   "source": [
    "x = str(input(\"Enter the sequence of words to be sorted: \"))\n",
    "y = x.split()\n",
    "y.sort()\n",
    "for z in y:\n",
    "    print(z , end =\" \")"
   ]
  },
  {
   "cell_type": "markdown",
   "metadata": {},
   "source": [
    "#### 3.Write a program, whichwill find all the numbers between 1000 and 3000 (both included) such that each digit of a number is an even number. The numbers obtained should be printed in a comma separated sequence on a single line.\n",
    "\n",
    "#### Hint: In case of input data being supplied to the question, it should be assumed to be a console input.Divide each digit with 2 and verify is it even or not."
   ]
  },
  {
   "cell_type": "code",
   "execution_count": 1,
   "metadata": {},
   "outputs": [
    {
     "name": "stdout",
     "output_type": "stream",
     "text": [
      "2000,2002,2004,2006,2008,2020,2022,2024,2026,2028,2040,2042,2044,2046,2048,2060,2062,2064,2066,2068,2080,2082,2084,2086,2088,2200,2202,2204,2206,2208,2220,2222,2224,2226,2228,2240,2242,2244,2246,2248,2260,2262,2264,2266,2268,2280,2282,2284,2286,2288,2400,2402,2404,2406,2408,2420,2422,2424,2426,2428,2440,2442,2444,2446,2448,2460,2462,2464,2466,2468,2480,2482,2484,2486,2488,2600,2602,2604,2606,2608,2620,2622,2624,2626,2628,2640,2642,2644,2646,2648,2660,2662,2664,2666,2668,2680,2682,2684,2686,2688,2800,2802,2804,2806,2808,2820,2822,2824,2826,2828,2840,2842,2844,2846,2848,2860,2862,2864,2866,2868,2880,2882,2884,2886,2888\n"
     ]
    }
   ],
   "source": [
    "n = []\n",
    "for i in range(1000, 3001):\n",
    "    s = str(i)\n",
    "    if (int(s[0])%2==0) and (int(s[1])%2==0) and (int(s[2])%2==0) and (int(s[3])%2==0):\n",
    "        n.append(s)\n",
    "print( \",\".join(n))"
   ]
  },
  {
   "cell_type": "markdown",
   "metadata": {},
   "source": [
    "#### 4.Write a program that accepts a sentence and calculate the number of letters and digits.\n",
    "\n",
    "#### Suppose if the entered string is: Python0325\n",
    "\n",
    "#### Then the output will be:\n",
    "#### LETTERS: 6\n",
    "\n",
    "#### DIGITS:4"
   ]
  },
  {
   "cell_type": "code",
   "execution_count": 3,
   "metadata": {},
   "outputs": [
    {
     "name": "stdout",
     "output_type": "stream",
     "text": [
      "Enter the string: Python0325\n",
      "LETTERS:6\n",
      "DIGITS:4\n"
     ]
    }
   ],
   "source": [
    "x = str(input(\"Enter the string: \"))\n",
    "\n",
    "letters = sum(c.isalpha() for c in x)\n",
    "digits = sum(c.isdigit() for c in x)\n",
    "\n",
    "print (\"LETTERS:{}\".format(letters))\n",
    "print (\"DIGITS:{}\".format(digits))"
   ]
  },
  {
   "cell_type": "markdown",
   "metadata": {},
   "source": [
    "#### 5.Design a code which will find the given number is Palindrome number or not."
   ]
  },
  {
   "cell_type": "code",
   "execution_count": 21,
   "metadata": {},
   "outputs": [
    {
     "name": "stdout",
     "output_type": "stream",
     "text": [
      "Please enter a number: 91019\n",
      "The number is Palindrome.\n"
     ]
    }
   ],
   "source": [
    "n = int(input(\"Please enter a number: \"))\n",
    "n1=n\n",
    "r=0\n",
    "while(n>0):\n",
    "    a=n%10\n",
    "    r=r*10+a\n",
    "    n=n//10\n",
    "if (n1==r):\n",
    "    print(\"The number is Palindrome.\")\n",
    "else:\n",
    "    print(\"The number is not Palindrome.\")"
   ]
  }
 ],
 "metadata": {
  "kernelspec": {
   "display_name": "Python 3",
   "language": "python",
   "name": "python3"
  },
  "language_info": {
   "codemirror_mode": {
    "name": "ipython",
    "version": 3
   },
   "file_extension": ".py",
   "mimetype": "text/x-python",
   "name": "python",
   "nbconvert_exporter": "python",
   "pygments_lexer": "ipython3",
   "version": "3.7.0"
  }
 },
 "nbformat": 4,
 "nbformat_minor": 2
}
