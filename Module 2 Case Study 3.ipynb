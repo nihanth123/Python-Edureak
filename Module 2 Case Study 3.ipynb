{
 "cells": [
  {
   "cell_type": "markdown",
   "metadata": {},
   "source": [
    "# Case Study III\n",
    "\n",
    "## Domain – Telecom"
   ]
  },
  {
   "cell_type": "code",
   "execution_count": 14,
   "metadata": {},
   "outputs": [
    {
     "name": "stdout",
     "output_type": "stream",
     "text": [
      "Reference ID :  nihanth12345\n",
      "Encripted Key: b'gAAAAABeQ7-2JUCB1pGIjjqSDjeglFtbvcRZhClrpkbp--tsoLwdZFhgjEGqACDqnLnLWGp7Oa74D8MLtzCnay_wfcVqvCtaig=='\n",
      "Do you want to see decrypted ID Enter Y/N :Y\n",
      "Decrypted Key: nihanth12345\n"
     ]
    }
   ],
   "source": [
    "from cryptography.fernet import Fernet\n",
    "\n",
    "\n",
    "def encoding(referenceID, key):\n",
    "    return Fernet(key).encrypt(bytes(bytearray(referenceID, encoding='UTF-8')))\n",
    "\n",
    "\n",
    "def decoding(encrypted_input, key):\n",
    "    return Fernet(key).decrypt(encrypted_input).decode(\"UTF-8\")\n",
    "\n",
    "running=True\n",
    "while running:\n",
    "    \n",
    "    referenceID=input(\"Reference ID :  \")\n",
    "    if len(referenceID) <12:\n",
    "        print (\"Invalid Reference ID\")\n",
    "        break\n",
    "    if len(referenceID) >12:\n",
    "        print (\"Invalid Reference ID\")\n",
    "        break\n",
    "    if not referenceID.isalnum(): \n",
    "        print (\"Invalid Reference ID\")\n",
    "        break\n",
    "    if referenceID.isalnum():\n",
    "        key = Fernet.generate_key()\n",
    "        encryptedInput = encoding(referenceID, key)\n",
    "        print(\"Encripted Key: {}\".format(encryptedInput))\n",
    "        decrypted=input(\"Do you want to see decrypted ID Enter Y/N :\")\n",
    "        if decrypted == 'N':\n",
    "            break\n",
    "        else:\n",
    "            decryptedInput = decoding(encryptedInput, key)\n",
    "            print(\"Decrypted Key: {}\".format(decryptedInput))\n",
    "        break\n",
    "    break"
   ]
  }
 ],
 "metadata": {
  "kernelspec": {
   "display_name": "Python 3",
   "language": "python",
   "name": "python3"
  },
  "language_info": {
   "codemirror_mode": {
    "name": "ipython",
    "version": 3
   },
   "file_extension": ".py",
   "mimetype": "text/x-python",
   "name": "python",
   "nbconvert_exporter": "python",
   "pygments_lexer": "ipython3",
   "version": "3.7.0"
  }
 },
 "nbformat": 4,
 "nbformat_minor": 2
}
